{
 "cells": [
  {
   "cell_type": "markdown",
   "metadata": {},
   "source": [
    "# Binary srearch trees, traversals and recursion"
   ]
  },
  {
   "cell_type": "markdown",
   "metadata": {},
   "source": [
    "question 1: develop a fast in-memory data structure to manage profile info (username, name, email) for 100M users, allowing the following operations with efficiency:\n",
    "\n",
    "1. **insert** the profile info for new user\n",
    "2. **find** the info of a user given the username\n",
    "3. **update** the profile info of a user, given the username\n",
    "4. **list** all the users of the platform, sorted by username"
   ]
  },
  {
   "cell_type": "markdown",
   "metadata": {},
   "source": [
    "## 1. state the problem clearly, identify the inputs and outputs"
   ]
  },
  {
   "cell_type": "markdown",
   "metadata": {},
   "source": [
    "**problem**: We need to create a data structure which can store 100 million records and perform insertion, search, update and list operations efficiently.\n"
   ]
  },
  {
   "cell_type": "code",
   "execution_count": 5,
   "metadata": {},
   "outputs": [
    {
     "name": "stdout",
     "output_type": "stream",
     "text": [
      "User created! \n"
     ]
    },
    {
     "data": {
      "text/plain": [
       "'Dave'"
      ]
     },
     "execution_count": 5,
     "metadata": {},
     "output_type": "execute_result"
    }
   ],
   "source": [
    "class User:\n",
    "   def __init__(self, username, name, email):\n",
    "      self.username = username\n",
    "      self.name = name\n",
    "      self.email = email\n",
    "      self.books = {} \n",
    "      print(\"User created! \")\n",
    "   \n",
    "   def __repr__(self):\n",
    "      return self.username + \" \" + self.name + \" \" + self.email\n",
    "\n",
    "   \n",
    "user1 = User(\"dave\", \"Dave\", \"dave@com\")\n",
    "user1.name"
   ]
  },
  {
   "cell_type": "code",
   "execution_count": null,
   "metadata": {},
   "outputs": [],
   "source": [
    "class UserDataBase:\n",
    "\n",
    "   def __init__(self):\n",
    "      self.users = []\n",
    "\n",
    "   def insert(self, user):\n",
    "      i = 0\n",
    "      while i < len(self.users):\n",
    "         if self.users[i].username == user.username:\n",
    "            break\n",
    "         i += 1\n",
    "      self.users.inser(i, user)\n",
    "\n",
    "   def find(self, username):\n",
    "      for user in self.users:\n",
    "         if user.username == username:\n",
    "            return user\n",
    "\n",
    "   def update(self, user):\n",
    "      target = self.find(user.username)\n",
    "      taget.name, target.email = user.name, user.email\n",
    "\n",
    "   def list_all_users(self):\n",
    "      return self.users\n",
    "   "
   ]
  },
  {
   "cell_type": "code",
   "execution_count": 6,
   "metadata": {},
   "outputs": [
    {
     "name": "stdout",
     "output_type": "stream",
     "text": [
      "User created! \n",
      "User created! \n",
      "User created! \n",
      "User created! \n",
      "User created! \n",
      "User created! \n",
      "User created! \n"
     ]
    }
   ],
   "source": [
    "aakash = User('aakash', 'Aakash Rai', 'aakash@example.com')\n",
    "biraj = User('biraj', 'Biraj Das', 'biraj@example.com')\n",
    "hemanth = User('hemanth', 'Hemanth Jain', 'hemanth@example.com')\n",
    "jadhesh = User('jadhesh', 'Jadhesh Verma', 'jadhesh@example.com')\n",
    "siddhant = User('siddhant', 'Siddhant Sinha', 'siddhant@example.com')\n",
    "sonaksh = User('sonaksh', 'Sonaksh Kumar', 'sonaksh@example.com')\n",
    "vishal = User('vishal', 'Vishal Goel', 'vishal@example.com')\n"
   ]
  },
  {
   "cell_type": "markdown",
   "metadata": {},
   "source": [
    "database = UserDataBase()\n",
    "\n",
    "database.insert(aakash)\n",
    "database.insert(aakash)\n",
    "database.insert(siddhant)\n",
    "\n",
    "user = database.find('siddhant')\n",
    "\n"
   ]
  },
  {
   "cell_type": "markdown",
   "metadata": {},
   "source": [
    "## 6. we can apply another tech to overcome the problem of inefficiency\n",
    "\n",
    "we can limit the number of iterations using binary tree"
   ]
  },
  {
   "cell_type": "markdown",
   "metadata": {},
   "source": [
    "\n",
    "we require the binary tree have some additional properties:\n",
    "\n",
    "1. keys and values\n",
    "2. Binary search tree: the left subtree of any node only contains nodes with keys smaller than the node's key\n",
    "3. balance tree: it does not skew too heavily to one side or the other. the left and right subtrees of any node should not differ in height by re than 2 level. To store N records we require a BST of height no latger than log(N) + 1. Nodes are arranged so that it's easy to find a specifc key by following a single path down from the root"
   ]
  },
  {
   "cell_type": "markdown",
   "metadata": {},
   "source": [
    "To begin with, create a simple BST:"
   ]
  },
  {
   "cell_type": "code",
   "execution_count": 23,
   "metadata": {},
   "outputs": [],
   "source": [
    "class TreeNode:\n",
    "   def __init__(self, key):\n",
    "      self.key = key\n",
    "      self.left = None\n",
    "      self.right = None "
   ]
  },
  {
   "cell_type": "code",
   "execution_count": 24,
   "metadata": {},
   "outputs": [],
   "source": [
    "node0 = TreeNode(3)\n",
    "node1 = TreeNode(4)\n",
    "node2 = TreeNode(5)"
   ]
  },
  {
   "cell_type": "code",
   "execution_count": 25,
   "metadata": {},
   "outputs": [
    {
     "data": {
      "text/plain": [
       "<__main__.TreeNode at 0x10fcb06e0>"
      ]
     },
     "execution_count": 25,
     "metadata": {},
     "output_type": "execute_result"
    }
   ],
   "source": [
    "node0"
   ]
  },
  {
   "cell_type": "code",
   "execution_count": 26,
   "metadata": {},
   "outputs": [
    {
     "data": {
      "text/plain": [
       "3"
      ]
     },
     "execution_count": 26,
     "metadata": {},
     "output_type": "execute_result"
    }
   ],
   "source": [
    "node0.key"
   ]
  },
  {
   "cell_type": "code",
   "execution_count": 29,
   "metadata": {},
   "outputs": [],
   "source": [
    "node0.left = node1\n",
    "node0.right = node2  "
   ]
  },
  {
   "cell_type": "code",
   "execution_count": 30,
   "metadata": {},
   "outputs": [],
   "source": [
    "tree = node0"
   ]
  },
  {
   "cell_type": "markdown",
   "metadata": {},
   "source": [
    "we'll use the term tree to refer to the root node.\n",
    "\n",
    "it's a bit inconvenient to create a tree by manually connecting all the nodes.\n",
    "\n",
    "Let's write a helper function which can convert a tuple with the structure (left_subtree, key, right_subtree), left_subtree and right_subtree are also tuples"
   ]
  },
  {
   "cell_type": "code",
   "execution_count": 35,
   "metadata": {},
   "outputs": [],
   "source": [
    "tree_tuple = ((1, 3, None), 2, ((None, 3, 4) , 5, (6,7,8 )))"
   ]
  },
  {
   "cell_type": "markdown",
   "metadata": {},
   "source": [
    "create a function called parse_tuple "
   ]
  },
  {
   "cell_type": "code",
   "execution_count": 33,
   "metadata": {},
   "outputs": [],
   "source": [
    "def parse_tuple(data):\n",
    "   # print(data)\n",
    "   if isinstance(data, tuple) and len(data) == 3:\n",
    "      node = TreeNode(data[1])\n",
    "      node.left = parse_tuple(data[0])\n",
    "      node.right = parse_tuple(data[2])\n",
    "   \n",
    "   elif data is None:\n",
    "      node = None\n",
    "\n",
    "   else: node = TreeNode(data)\n",
    "\n",
    "   return node"
   ]
  },
  {
   "cell_type": "code",
   "execution_count": 36,
   "metadata": {},
   "outputs": [
    {
     "data": {
      "text/plain": [
       "<__main__.TreeNode at 0x10fdd4290>"
      ]
     },
     "execution_count": 36,
     "metadata": {},
     "output_type": "execute_result"
    }
   ],
   "source": [
    "tree2 = parse_tuple(tree_tuple)\n",
    "\n",
    "tree2\n",
    "\n"
   ]
  },
  {
   "cell_type": "code",
   "execution_count": 37,
   "metadata": {},
   "outputs": [
    {
     "data": {
      "text/plain": [
       "(3, 5)"
      ]
     },
     "execution_count": 37,
     "metadata": {},
     "output_type": "execute_result"
    }
   ],
   "source": [
    "tree2.left.key, tree2.right.key\n"
   ]
  },
  {
   "cell_type": "code",
   "execution_count": 38,
   "metadata": {},
   "outputs": [],
   "source": [
    "def tree_to_tuple(tree):\n",
    "   if tree is None:\n",
    "      return None\n",
    "   return (tree_to_tuple(tree.left), tree.key, tree_to_tuple(tree.right))"
   ]
  },
  {
   "cell_type": "code",
   "execution_count": 42,
   "metadata": {},
   "outputs": [],
   "source": [
    "def tree_height(node):\n",
    "   if node is None:\n",
    "      return 0\n",
    "   return 1 + max(tree_height(node.left), tree_height(node.right))"
   ]
  },
  {
   "cell_type": "code",
   "execution_count": 43,
   "metadata": {},
   "outputs": [],
   "source": [
    "def tree_size(node):\n",
    "   if node is None:\n",
    "      return 0\n",
    "   return 1 + tree_size(node.left) + tree_size(node.right)"
   ]
  },
  {
   "cell_type": "markdown",
   "metadata": {},
   "source": [
    "create another hlep function to display all the keys in a tree-like structure for visualization"
   ]
  },
  {
   "cell_type": "code",
   "execution_count": 46,
   "metadata": {},
   "outputs": [],
   "source": [
    "def display_keys(node, space='\\t', level = 0):\n",
    "   \n",
    "   # if the node has children\n",
    "   display_keys(node.right, space, level + 1)\n",
    "   print(space * level + str(node.key))\n",
    "   display_keys(node.left, space, level + 1)\n",
    "\n",
    "   # If the node is empty\n",
    "   if node is None:\n",
    "      print(space * level + '∅')\n",
    "      return\n",
    "   \n",
    "   # If the node is a leaf\n",
    "   if  node.left is None and node.right is None:\n",
    "      print(space * level + str(node.key))\n",
    "      return"
   ]
  },
  {
   "cell_type": "code",
   "execution_count": null,
   "metadata": {},
   "outputs": [],
   "source": [
    "Travesing a BST"
   ]
  },
  {
   "cell_type": "markdown",
   "metadata": {},
   "source": [
    "Question 1: perform inorder traversal\n",
    "\n",
    "Question 2: perform preorder traversal\n",
    "\n",
    "Question 3: perform postorder traversal"
   ]
  },
  {
   "cell_type": "code",
   "execution_count": null,
   "metadata": {},
   "outputs": [],
   "source": [
    "def traverse_in_order(node):\n",
    "   if node is None:\n",
    "      return []\n",
    "   traverse_in_order(node.left)\n",
    "   print(node.key)\n",
    "   traverse_in_order(node.right)"
   ]
  },
  {
   "cell_type": "code",
   "execution_count": null,
   "metadata": {},
   "outputs": [],
   "source": [
    "def traverse_pre_order(node):\n",
    "   if node is None:\n",
    "      return []\n",
    "   print(node.key)\n",
    "   traverse_pre_order(node.left)\n",
    "   traverse_pre_order(node.right)"
   ]
  },
  {
   "cell_type": "code",
   "execution_count": null,
   "metadata": {},
   "outputs": [],
   "source": [
    "def traverse_post_order(node):\n",
    "   if node is None:\n",
    "      return []\n",
    "   traverse_post_order(node.left)\n",
    "   traverse_post_order(node.right)\n",
    "   print(node.key)"
   ]
  },
  {
   "cell_type": "markdown",
   "metadata": {},
   "source": [
    "Question 4: write a function to calculate the height of the BST\n",
    "\n",
    "Question 5: write a function to count the number of nodes in the BST\n"
   ]
  },
  {
   "cell_type": "code",
   "execution_count": null,
   "metadata": {},
   "outputs": [],
   "source": [
    "def tree_height(node):\n",
    "   if node is None:\n",
    "      return 0\n",
    "   return 1 + max(tree_height(node.left), tree_height(node.right))"
   ]
  },
  {
   "cell_type": "code",
   "execution_count": null,
   "metadata": {},
   "outputs": [],
   "source": [
    "def tree_size(node):\n",
    "   if node is None:\n",
    "      return 0\n",
    "   return 1 + tree_size(node.left) + tree_size(node.right)"
   ]
  },
  {
   "cell_type": "code",
   "execution_count": null,
   "metadata": {},
   "outputs": [],
   "source": [
    "# complile all the functions into a class called TreeNode\n",
    "\n",
    "# init, height, size, traverse_in_order, traverse_pre_order, traverse_post_order, display_keys, to_tuple, parse_tuple.\n",
    "\n",
    "class TreeNode():\n",
    "\n",
    "   def __init__(self, key):\n",
    "      self.key, self.left, self.right = key, None, None\n",
    "\n",
    "   def height(self):\n",
    "      if self is None:\n",
    "         return 0\n",
    "      return 1 + max(TreeNode.height(self.left), TreeNode.height(self.right))\n",
    "   \n",
    "   def size(self):\n",
    "      if self is None:\n",
    "         return 0\n",
    "      return 1 + TreeNode.size(self.left) + TreeNode.size(self.right)\n",
    "   \n",
    "   def traverse_in_order(self):\n",
    "      if self is None:\n",
    "         return []\n",
    "      return(traverse_in_order(self.left) +\n",
    "      [self.key] +\n",
    "      traverse_in_order(self.right))\n",
    "   \n",
    "   def traverse_pre_order(self):\n",
    "      if self is None:\n",
    "         return []\n",
    "      return(\n",
    "         [self.key] +\n",
    "      TreeNode.traverse_pre_order(self.left) + TreeNode.traverse_pre_order(self.right)\n",
    "      )\n",
    "   \n",
    "   def traverse_post_order(self):\n",
    "      if self is None:\n",
    "         retun []\n",
    "      return(\n",
    "      TreeNode.traverse_post_order(self.left) + TreeNode.traverse_post_order(self.right) + [self.key]\n",
    "      )\n",
    "   \n",
    "   def display_keys (self, space = '\\t', level = 0)\n",
    "      if self is None:\n",
    "         print(space*level + '?')\n",
    "         return\n",
    "      \n",
    "      if self.left is None and self.right is none;\n",
    "         print(space*level + str(self.key))\n",
    "         return\n",
    "      \n",
    "      display_keys(self.right, space, level+1)\n",
    "      print(space*level + str(self.key))\n",
    "      display_keys(self.left, space, level+1)\n",
    "      \n",
    "   def to_tuple (self):\n",
    "      if self.key is None:\n",
    "         return None\n",
    "      if self.left.key is None and self.right.key is None:\n",
    "         return self.key\n",
    "      return to_tuple(self.left), self.key, to_tuple(self.right)\n",
    "\n",
    "   def parse_tuple(data):\n",
    "      if isinstance(data, tuple) and len(data) == 3:\n",
    "         node = TreeNode(data[1])\n",
    "         node.left = parse_tuple(data[0])\n",
    "         node.right = parse_tuple(data[2])\n",
    "      elif data is None:\n",
    "         node = None\n",
    "      else: node = TreeNode(data)\n",
    "      return node"
   ]
  },
  {
   "cell_type": "markdown",
   "metadata": {},
   "source": [
    "# binary search tree\n",
    "\n",
    "BST is a binary tree where the left child is less than the parent and the right child is greater than the parent."
   ]
  },
  {
   "cell_type": "code",
   "execution_count": null,
   "metadata": {},
   "outputs": [],
   "source": []
  }
 ],
 "metadata": {
  "kernelspec": {
   "display_name": "som_20240316",
   "language": "python",
   "name": "python3"
  },
  "language_info": {
   "codemirror_mode": {
    "name": "ipython",
    "version": 3
   },
   "file_extension": ".py",
   "mimetype": "text/x-python",
   "name": "python",
   "nbconvert_exporter": "python",
   "pygments_lexer": "ipython3",
   "version": "3.12.2"
  }
 },
 "nbformat": 4,
 "nbformat_minor": 2
}
