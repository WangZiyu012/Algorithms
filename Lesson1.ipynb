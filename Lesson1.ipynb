{
 "cells": [
  {
   "cell_type": "markdown",
   "metadata": {},
   "source": [
    "# Intro"
   ]
  },
  {
   "cell_type": "markdown",
   "metadata": {},
   "source": [
    "In each notebook, we focus on 1 problem and learn the techniques, algorithms, data structures to devise an efficient solution."
   ]
  },
  {
   "cell_type": "markdown",
   "metadata": {},
   "source": [
    "Question: Alice has some cards with numbers written on them. She arranges the cards in decreasing order, and lays them out face down in a sequence on a table. She challenges Bob to pick out the card containing a given number by turning over as few cards as possible. Write a function to help Bob locate the card."
   ]
  },
  {
   "cell_type": "markdown",
   "metadata": {},
   "source": [
    "# The Method"
   ]
  },
  {
   "cell_type": "markdown",
   "metadata": {},
   "source": [
    "1. State the problem clearly. Identify the input & output formats.\n",
    "2. Come up with some example inputs & outputs. Try to cover all edge cases.\n",
    "3. Come up with a correct solution for the problem. State it in plain English.\n",
    "4. Implement the solution and test it using example inputs. Fix bugs, if any.\n",
    "5. Analyze the algorithm's complexity and identify inefficiencies, if any.\n",
    "6. Apply the right technique to overcome the inefficiency. Repeat steps 3 to 6.\n"
   ]
  },
  {
   "cell_type": "markdown",
   "metadata": {},
   "source": [
    "# The Solution"
   ]
  },
  {
   "cell_type": "markdown",
   "metadata": {},
   "source": [
    "## Step1. State the problem clearly. Identify IO\n",
    "\n",
    "In this case, reprsent the seq. as a list of numbers. Turning over a specific card is equivalent to accessing the value of the number at the corresponding position of the list."
   ]
  },
  {
   "cell_type": "markdown",
   "metadata": {},
   "source": [
    "### Restate\n",
    "\n",
    "The question can be restated as follows:\n",
    "\n",
    "write a program to find the position of a given number in a list of numbers arranged in decreasing order.\n",
    "\n",
    "Also need to minimize the number of times we access elements from the list."
   ]
  },
  {
   "cell_type": "markdown",
   "metadata": {},
   "source": [
    "### Input\n",
    "\n",
    "1. `cards`: list of numbers sorted in decreasing order. eg: `[13,11,10,7]`\n",
    "2. `query`: A number whose position in the array is TBD. eg: `7`"
   ]
  },
  {
   "cell_type": "markdown",
   "metadata": {},
   "source": [
    "### Output\n",
    "\n",
    "3. `position`: The position of `query` in `cards`. eg: `3`"
   ]
  },
  {
   "cell_type": "code",
   "execution_count": 16,
   "metadata": {},
   "outputs": [],
   "source": [
    "def locate_card(cards, query):\n",
    "   pass"
   ]
  },
  {
   "cell_type": "markdown",
   "metadata": {},
   "source": [
    "## Step2. example test, try to cover all edge cases"
   ]
  },
  {
   "cell_type": "code",
   "execution_count": 17,
   "metadata": {},
   "outputs": [],
   "source": [
    "# example\n",
    "cards = [13, 11, 10, 7, 4, 3, 1, 0]\n",
    "query = 7\n",
    "output = 3"
   ]
  },
  {
   "cell_type": "code",
   "execution_count": 18,
   "metadata": {},
   "outputs": [
    {
     "name": "stdout",
     "output_type": "stream",
     "text": [
      "None\n"
     ]
    },
    {
     "data": {
      "text/plain": [
       "False"
      ]
     },
     "execution_count": 18,
     "metadata": {},
     "output_type": "execute_result"
    }
   ],
   "source": [
    "# test\n",
    "result = locate_card(cards, query)\n",
    "print(result)\n",
    "result == output"
   ]
  },
  {
   "cell_type": "code",
   "execution_count": 19,
   "metadata": {},
   "outputs": [
    {
     "data": {
      "text/plain": [
       "False"
      ]
     },
     "execution_count": 19,
     "metadata": {},
     "output_type": "execute_result"
    }
   ],
   "source": [
    "# prsent the test cases as dictionaries to make it easier to run them\n",
    "test={\n",
    "   'input': {'cards': [13, 11, 10, 7, 4, 3, 1, 0], 'query': 7},\n",
    "'output': 3\n",
    "}\n",
    "\n",
    "# test\n",
    "locate_card(**test['input']) == test['output']"
   ]
  },
  {
   "cell_type": "markdown",
   "metadata": {},
   "source": [
    "## edge cases:\n",
    "\n",
    "1. The number query occurs somewhere in the middle of the list cards.\n",
    "2. query is the first element in cards.\n",
    "3. query is the last element in cards.\n",
    "4. The list cards contains just one element, which is query.\n",
    "5. The list cards does not contain number query.\n",
    "6. The list cards is empty.\n",
    "7. The list cards contains repeating numbers.\n",
    "8. The number query occurs at more than one position in cards.\n",
    "(can you think of any more variations?)"
   ]
  },
  {
   "cell_type": "code",
   "execution_count": 20,
   "metadata": {},
   "outputs": [],
   "source": [
    "# edge case1\n",
    "\n",
    "tests=[]\n",
    "\n",
    "tests.append({\n",
    "   'input': {'cards': [13, 11, 10, 7, 4, 3, 1, 0], 'query': 4},\n",
    "'output': 4\n",
    "})"
   ]
  },
  {
   "cell_type": "code",
   "execution_count": 21,
   "metadata": {},
   "outputs": [],
   "source": [
    "# edge case2\n",
    "\n",
    "tests.append({\n",
    "   'input': {'cards': [13, 11, 10, 7, 4, 3, 1, 0], 'query': 13},\n",
    "'output': 0\n",
    "})"
   ]
  },
  {
   "cell_type": "code",
   "execution_count": 22,
   "metadata": {},
   "outputs": [],
   "source": [
    "# edge case3\n",
    "\n",
    "tests.append({\n",
    "   'input': {'cards': [13, 11, 10, 7, 4, 3, 1, 0], 'query': 0},\n",
    "'output': 7\n",
    "})"
   ]
  },
  {
   "cell_type": "code",
   "execution_count": 23,
   "metadata": {},
   "outputs": [],
   "source": [
    "# edge case4\n",
    "\n",
    "tests.append({\n",
    "   'input': {'cards': [6], 'query': 6},\n",
    "'output': 0\n",
    "})"
   ]
  },
  {
   "cell_type": "code",
   "execution_count": 24,
   "metadata": {},
   "outputs": [],
   "source": [
    "# edge case5\n",
    "# the caes that the list does not contain the query\n",
    "\n",
    "tests.append({\n",
    "   'input': {'cards': [9, 7, 5, 2, 1], 'query': 3},\n",
    "'output': -1\n",
    "})\n"
   ]
  },
  {
   "cell_type": "code",
   "execution_count": 25,
   "metadata": {},
   "outputs": [],
   "source": [
    "# edge case6\n",
    "# the case that the list is empty\n",
    "\n",
    "tests.append({\n",
    "   'input': {'cards': [], 'query': 7},\n",
    "'output': -1\n",
    "})\n"
   ]
  },
  {
   "cell_type": "code",
   "execution_count": 26,
   "metadata": {},
   "outputs": [],
   "source": [
    "# edge case7\n",
    "# numbers can be repeated in the list\n",
    "\n",
    "tests.append({\n",
    "   'input': {'cards': [8, 8, 6, 6, 3, 2, 2], 'query': 3},\n",
    "'output': 4\n",
    "})\n"
   ]
  },
  {
   "cell_type": "code",
   "execution_count": 27,
   "metadata": {},
   "outputs": [],
   "source": [
    "# edge case8\n",
    "# query occurs multiple times in the list\n",
    "\n",
    "tests.append({\n",
    "   'input': {'cards': [8, 8, 6, 6, 3, 2, 2], 'query': 8},\n",
    "'output': 0\n",
    "})"
   ]
  },
  {
   "cell_type": "code",
   "execution_count": 28,
   "metadata": {},
   "outputs": [
    {
     "data": {
      "text/plain": [
       "[{'input': {'cards': [13, 11, 10, 7, 4, 3, 1, 0], 'query': 4}, 'output': 4},\n",
       " {'input': {'cards': [13, 11, 10, 7, 4, 3, 1, 0], 'query': 13}, 'output': 0},\n",
       " {'input': {'cards': [13, 11, 10, 7, 4, 3, 1, 0], 'query': 0}, 'output': 7},\n",
       " {'input': {'cards': [6], 'query': 6}, 'output': 0},\n",
       " {'input': {'cards': [9, 7, 5, 2, 1], 'query': 3}, 'output': -1},\n",
       " {'input': {'cards': [], 'query': 7}, 'output': -1},\n",
       " {'input': {'cards': [8, 8, 6, 6, 3, 2, 2], 'query': 3}, 'output': 4},\n",
       " {'input': {'cards': [8, 8, 6, 6, 3, 2, 2], 'query': 8}, 'output': 0}]"
      ]
     },
     "execution_count": 28,
     "metadata": {},
     "output_type": "execute_result"
    }
   ],
   "source": [
    "tests"
   ]
  },
  {
   "cell_type": "markdown",
   "metadata": {},
   "source": [
    "## Step3. Come up with a correct solution for the problem\n",
    "\n",
    "1. create a variable `position` with value 0\n",
    "2. Check whether the number at `position` equals `query`\n",
    "3. If does, return `position`\n",
    "4. If not, increment `position` by 1, repeat 2-5\n",
    "5. If not found, return `-1`"
   ]
  },
  {
   "cell_type": "markdown",
   "metadata": {},
   "source": [
    "## Step4. Implement the solution and test it using the test cases\n",
    "\n"
   ]
  },
  {
   "cell_type": "code",
   "execution_count": null,
   "metadata": {},
   "outputs": [],
   "source": [
    "def locate_card(cards, query):\n",
    "   if query not in cards:\n",
    "       return -1\n",
    "   if len(cards)==1:\n",
    "       return 0\n",
    "   position = len(cards)//2\n",
    "   while cards[position] != query:\n",
    "         if cards[position] > query:\n",
    "              position += \n",
    "         else:\n",
    "              position = position + 1"
   ]
  }
 ],
 "metadata": {
  "kernelspec": {
   "display_name": "som_20240316",
   "language": "python",
   "name": "python3"
  },
  "language_info": {
   "codemirror_mode": {
    "name": "ipython",
    "version": 3
   },
   "file_extension": ".py",
   "mimetype": "text/x-python",
   "name": "python",
   "nbconvert_exporter": "python",
   "pygments_lexer": "ipython3",
   "version": "3.12.2"
  }
 },
 "nbformat": 4,
 "nbformat_minor": 2
}
